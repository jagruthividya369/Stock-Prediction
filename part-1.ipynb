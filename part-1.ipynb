{
 "cells": [
  {
   "cell_type": "code",
   "execution_count": 1,
   "metadata": {},
   "outputs": [],
   "source": [
    "import numpy as np\n",
    "import pandas as pd\n",
    "import warnings \n",
    "warnings.simplefilter(\"ignore\")"
   ]
  },
  {
   "cell_type": "code",
   "execution_count": 2,
   "metadata": {},
   "outputs": [],
   "source": [
    "dataset = pd.read_excel(\"Train_dataset.xlsx\",sheet_name='Train_Aug10')"
   ]
  },
  {
   "cell_type": "code",
   "execution_count": 3,
   "metadata": {},
   "outputs": [
    {
     "data": {
      "text/plain": [
       "(7383, 15)"
      ]
     },
     "execution_count": 3,
     "metadata": {},
     "output_type": "execute_result"
    }
   ],
   "source": [
    "dataset.shape"
   ]
  },
  {
   "cell_type": "code",
   "execution_count": 4,
   "metadata": {},
   "outputs": [
    {
     "data": {
      "text/html": [
       "<div>\n",
       "<style scoped>\n",
       "    .dataframe tbody tr th:only-of-type {\n",
       "        vertical-align: middle;\n",
       "    }\n",
       "\n",
       "    .dataframe tbody tr th {\n",
       "        vertical-align: top;\n",
       "    }\n",
       "\n",
       "    .dataframe thead th {\n",
       "        text-align: right;\n",
       "    }\n",
       "</style>\n",
       "<table border=\"1\" class=\"dataframe\">\n",
       "  <thead>\n",
       "    <tr style=\"text-align: right;\">\n",
       "      <th></th>\n",
       "      <th>Stock Index</th>\n",
       "      <th>Index</th>\n",
       "      <th>Industry</th>\n",
       "      <th>VWAP</th>\n",
       "      <th>General Index</th>\n",
       "      <th>NAV</th>\n",
       "      <th>P/E Ratio</th>\n",
       "      <th>Volumes Traded</th>\n",
       "      <th>Inventory Turnover</th>\n",
       "      <th>Covid Impact (Beta)</th>\n",
       "      <th>Tracking Error</th>\n",
       "      <th>Dollar Exchange Rate</th>\n",
       "      <th>Put-Call Ratio</th>\n",
       "      <th>P/B Ratio</th>\n",
       "      <th>Stock Price</th>\n",
       "    </tr>\n",
       "  </thead>\n",
       "  <tbody>\n",
       "    <tr>\n",
       "      <th>0</th>\n",
       "      <td>AA1</td>\n",
       "      <td>NYSE</td>\n",
       "      <td>Real Estate</td>\n",
       "      <td>700.29</td>\n",
       "      <td>12765.84</td>\n",
       "      <td>32.38</td>\n",
       "      <td>45.35</td>\n",
       "      <td>1208599.0</td>\n",
       "      <td>5.05</td>\n",
       "      <td>-0.43</td>\n",
       "      <td>0.0520</td>\n",
       "      <td>1.0</td>\n",
       "      <td>0.61</td>\n",
       "      <td>9.20</td>\n",
       "      <td>156.987852</td>\n",
       "    </tr>\n",
       "    <tr>\n",
       "      <th>1</th>\n",
       "      <td>AA2</td>\n",
       "      <td>NYSE</td>\n",
       "      <td>Information Tech</td>\n",
       "      <td>214.52</td>\n",
       "      <td>12765.84</td>\n",
       "      <td>33.25</td>\n",
       "      <td>170.56</td>\n",
       "      <td>13753356.0</td>\n",
       "      <td>3.10</td>\n",
       "      <td>0.23</td>\n",
       "      <td>0.0164</td>\n",
       "      <td>1.0</td>\n",
       "      <td>NaN</td>\n",
       "      <td>6.91</td>\n",
       "      <td>560.859622</td>\n",
       "    </tr>\n",
       "    <tr>\n",
       "      <th>2</th>\n",
       "      <td>AA3</td>\n",
       "      <td>NYSE</td>\n",
       "      <td>Information Tech</td>\n",
       "      <td>943.42</td>\n",
       "      <td>12765.84</td>\n",
       "      <td>88.27</td>\n",
       "      <td>143.58</td>\n",
       "      <td>6892003.0</td>\n",
       "      <td>7.70</td>\n",
       "      <td>0.23</td>\n",
       "      <td>0.0396</td>\n",
       "      <td>1.0</td>\n",
       "      <td>NaN</td>\n",
       "      <td>6.09</td>\n",
       "      <td>1279.732874</td>\n",
       "    </tr>\n",
       "    <tr>\n",
       "      <th>3</th>\n",
       "      <td>AA4</td>\n",
       "      <td>BSE</td>\n",
       "      <td>Materials</td>\n",
       "      <td>828.13</td>\n",
       "      <td>38182.08</td>\n",
       "      <td>73.66</td>\n",
       "      <td>151.76</td>\n",
       "      <td>8316793.0</td>\n",
       "      <td>4.80</td>\n",
       "      <td>0.03</td>\n",
       "      <td>0.0431</td>\n",
       "      <td>74.9</td>\n",
       "      <td>1.11</td>\n",
       "      <td>5.60</td>\n",
       "      <td>1121.787632</td>\n",
       "    </tr>\n",
       "    <tr>\n",
       "      <th>4</th>\n",
       "      <td>AA5</td>\n",
       "      <td>S&amp;P 500</td>\n",
       "      <td>Real Estate</td>\n",
       "      <td>NaN</td>\n",
       "      <td>3351.28</td>\n",
       "      <td>23.79</td>\n",
       "      <td>NaN</td>\n",
       "      <td>3943312.0</td>\n",
       "      <td>8.06</td>\n",
       "      <td>-0.43</td>\n",
       "      <td>0.0244</td>\n",
       "      <td>1.0</td>\n",
       "      <td>1.07</td>\n",
       "      <td>9.46</td>\n",
       "      <td>382.962534</td>\n",
       "    </tr>\n",
       "  </tbody>\n",
       "</table>\n",
       "</div>"
      ],
      "text/plain": [
       "  Stock Index    Index          Industry    VWAP  General Index    NAV  \\\n",
       "0         AA1     NYSE       Real Estate  700.29       12765.84  32.38   \n",
       "1         AA2     NYSE  Information Tech  214.52       12765.84  33.25   \n",
       "2         AA3     NYSE  Information Tech  943.42       12765.84  88.27   \n",
       "3         AA4      BSE         Materials  828.13       38182.08  73.66   \n",
       "4         AA5  S&P 500       Real Estate     NaN        3351.28  23.79   \n",
       "\n",
       "   P/E Ratio  Volumes Traded  Inventory Turnover  Covid Impact (Beta)  \\\n",
       "0      45.35       1208599.0                5.05                -0.43   \n",
       "1     170.56      13753356.0                3.10                 0.23   \n",
       "2     143.58       6892003.0                7.70                 0.23   \n",
       "3     151.76       8316793.0                4.80                 0.03   \n",
       "4        NaN       3943312.0                8.06                -0.43   \n",
       "\n",
       "   Tracking Error  Dollar Exchange Rate  Put-Call Ratio  P/B Ratio  \\\n",
       "0          0.0520                   1.0            0.61       9.20   \n",
       "1          0.0164                   1.0             NaN       6.91   \n",
       "2          0.0396                   1.0             NaN       6.09   \n",
       "3          0.0431                  74.9            1.11       5.60   \n",
       "4          0.0244                   1.0            1.07       9.46   \n",
       "\n",
       "   Stock Price  \n",
       "0   156.987852  \n",
       "1   560.859622  \n",
       "2  1279.732874  \n",
       "3  1121.787632  \n",
       "4   382.962534  "
      ]
     },
     "execution_count": 4,
     "metadata": {},
     "output_type": "execute_result"
    }
   ],
   "source": [
    "dataset.head()"
   ]
  },
  {
   "cell_type": "code",
   "execution_count": 5,
   "metadata": {},
   "outputs": [
    {
     "data": {
      "text/html": [
       "<div>\n",
       "<style scoped>\n",
       "    .dataframe tbody tr th:only-of-type {\n",
       "        vertical-align: middle;\n",
       "    }\n",
       "\n",
       "    .dataframe tbody tr th {\n",
       "        vertical-align: top;\n",
       "    }\n",
       "\n",
       "    .dataframe thead th {\n",
       "        text-align: right;\n",
       "    }\n",
       "</style>\n",
       "<table border=\"1\" class=\"dataframe\">\n",
       "  <thead>\n",
       "    <tr style=\"text-align: right;\">\n",
       "      <th></th>\n",
       "      <th>Stock Index</th>\n",
       "      <th>Index</th>\n",
       "      <th>Industry</th>\n",
       "      <th>VWAP</th>\n",
       "      <th>General Index</th>\n",
       "      <th>NAV</th>\n",
       "      <th>P/E Ratio</th>\n",
       "      <th>Volumes Traded</th>\n",
       "      <th>Inventory Turnover</th>\n",
       "      <th>Covid Impact (Beta)</th>\n",
       "      <th>Tracking Error</th>\n",
       "      <th>Dollar Exchange Rate</th>\n",
       "      <th>Put-Call Ratio</th>\n",
       "      <th>P/B Ratio</th>\n",
       "      <th>Stock Price</th>\n",
       "    </tr>\n",
       "  </thead>\n",
       "  <tbody>\n",
       "    <tr>\n",
       "      <th>7378</th>\n",
       "      <td>AC3230</td>\n",
       "      <td>NSE</td>\n",
       "      <td>Healthcare</td>\n",
       "      <td>773.91</td>\n",
       "      <td>11270.15</td>\n",
       "      <td>40.28</td>\n",
       "      <td>61.37</td>\n",
       "      <td>19212221.0</td>\n",
       "      <td>4.34</td>\n",
       "      <td>0.78</td>\n",
       "      <td>0.0340</td>\n",
       "      <td>74.9</td>\n",
       "      <td>0.98</td>\n",
       "      <td>NaN</td>\n",
       "      <td>248.019321</td>\n",
       "    </tr>\n",
       "    <tr>\n",
       "      <th>7379</th>\n",
       "      <td>AC3231</td>\n",
       "      <td>JSE</td>\n",
       "      <td>Information Tech</td>\n",
       "      <td>61.97</td>\n",
       "      <td>55722.00</td>\n",
       "      <td>79.56</td>\n",
       "      <td>62.90</td>\n",
       "      <td>8108942.0</td>\n",
       "      <td>3.48</td>\n",
       "      <td>0.23</td>\n",
       "      <td>0.0528</td>\n",
       "      <td>17.7</td>\n",
       "      <td>0.84</td>\n",
       "      <td>NaN</td>\n",
       "      <td>494.555631</td>\n",
       "    </tr>\n",
       "    <tr>\n",
       "      <th>7380</th>\n",
       "      <td>AC3232</td>\n",
       "      <td>JSE</td>\n",
       "      <td>Materials</td>\n",
       "      <td>131.99</td>\n",
       "      <td>55722.00</td>\n",
       "      <td>26.16</td>\n",
       "      <td>198.77</td>\n",
       "      <td>8382586.0</td>\n",
       "      <td>3.04</td>\n",
       "      <td>0.03</td>\n",
       "      <td>0.0359</td>\n",
       "      <td>17.7</td>\n",
       "      <td>1.22</td>\n",
       "      <td>NaN</td>\n",
       "      <td>500.869063</td>\n",
       "    </tr>\n",
       "    <tr>\n",
       "      <th>7381</th>\n",
       "      <td>AC3233</td>\n",
       "      <td>S&amp;P 500</td>\n",
       "      <td>Materials</td>\n",
       "      <td>643.72</td>\n",
       "      <td>3351.28</td>\n",
       "      <td>29.24</td>\n",
       "      <td>38.83</td>\n",
       "      <td>18638400.0</td>\n",
       "      <td>2.66</td>\n",
       "      <td>0.03</td>\n",
       "      <td>0.0581</td>\n",
       "      <td>1.0</td>\n",
       "      <td>1.04</td>\n",
       "      <td>NaN</td>\n",
       "      <td>113.170686</td>\n",
       "    </tr>\n",
       "    <tr>\n",
       "      <th>7382</th>\n",
       "      <td>AC3234</td>\n",
       "      <td>S&amp;P 500</td>\n",
       "      <td>Information Tech</td>\n",
       "      <td>126.46</td>\n",
       "      <td>3351.28</td>\n",
       "      <td>23.30</td>\n",
       "      <td>105.83</td>\n",
       "      <td>14707806.0</td>\n",
       "      <td>7.51</td>\n",
       "      <td>0.23</td>\n",
       "      <td>0.0490</td>\n",
       "      <td>1.0</td>\n",
       "      <td>1.23</td>\n",
       "      <td>NaN</td>\n",
       "      <td>236.641085</td>\n",
       "    </tr>\n",
       "  </tbody>\n",
       "</table>\n",
       "</div>"
      ],
      "text/plain": [
       "     Stock Index    Index          Industry    VWAP  General Index    NAV  \\\n",
       "7378      AC3230      NSE        Healthcare  773.91       11270.15  40.28   \n",
       "7379      AC3231      JSE  Information Tech   61.97       55722.00  79.56   \n",
       "7380      AC3232      JSE         Materials  131.99       55722.00  26.16   \n",
       "7381      AC3233  S&P 500         Materials  643.72        3351.28  29.24   \n",
       "7382      AC3234  S&P 500  Information Tech  126.46        3351.28  23.30   \n",
       "\n",
       "      P/E Ratio  Volumes Traded  Inventory Turnover  Covid Impact (Beta)  \\\n",
       "7378      61.37      19212221.0                4.34                 0.78   \n",
       "7379      62.90       8108942.0                3.48                 0.23   \n",
       "7380     198.77       8382586.0                3.04                 0.03   \n",
       "7381      38.83      18638400.0                2.66                 0.03   \n",
       "7382     105.83      14707806.0                7.51                 0.23   \n",
       "\n",
       "      Tracking Error  Dollar Exchange Rate  Put-Call Ratio  P/B Ratio  \\\n",
       "7378          0.0340                  74.9            0.98        NaN   \n",
       "7379          0.0528                  17.7            0.84        NaN   \n",
       "7380          0.0359                  17.7            1.22        NaN   \n",
       "7381          0.0581                   1.0            1.04        NaN   \n",
       "7382          0.0490                   1.0            1.23        NaN   \n",
       "\n",
       "      Stock Price  \n",
       "7378   248.019321  \n",
       "7379   494.555631  \n",
       "7380   500.869063  \n",
       "7381   113.170686  \n",
       "7382   236.641085  "
      ]
     },
     "execution_count": 5,
     "metadata": {},
     "output_type": "execute_result"
    }
   ],
   "source": [
    "dataset.tail()"
   ]
  },
  {
   "cell_type": "code",
   "execution_count": 6,
   "metadata": {},
   "outputs": [
    {
     "data": {
      "text/html": [
       "<div>\n",
       "<style scoped>\n",
       "    .dataframe tbody tr th:only-of-type {\n",
       "        vertical-align: middle;\n",
       "    }\n",
       "\n",
       "    .dataframe tbody tr th {\n",
       "        vertical-align: top;\n",
       "    }\n",
       "\n",
       "    .dataframe thead th {\n",
       "        text-align: right;\n",
       "    }\n",
       "</style>\n",
       "<table border=\"1\" class=\"dataframe\">\n",
       "  <thead>\n",
       "    <tr style=\"text-align: right;\">\n",
       "      <th></th>\n",
       "      <th>VWAP</th>\n",
       "      <th>General Index</th>\n",
       "      <th>NAV</th>\n",
       "      <th>P/E Ratio</th>\n",
       "      <th>Volumes Traded</th>\n",
       "      <th>Inventory Turnover</th>\n",
       "      <th>Covid Impact (Beta)</th>\n",
       "      <th>Tracking Error</th>\n",
       "      <th>Dollar Exchange Rate</th>\n",
       "      <th>Put-Call Ratio</th>\n",
       "      <th>P/B Ratio</th>\n",
       "      <th>Stock Price</th>\n",
       "    </tr>\n",
       "  </thead>\n",
       "  <tbody>\n",
       "    <tr>\n",
       "      <th>count</th>\n",
       "      <td>7345.000000</td>\n",
       "      <td>7321.000000</td>\n",
       "      <td>7322.000000</td>\n",
       "      <td>7149.000000</td>\n",
       "      <td>7.115000e+03</td>\n",
       "      <td>6984.000000</td>\n",
       "      <td>7007.000000</td>\n",
       "      <td>7312.000000</td>\n",
       "      <td>7306.000000</td>\n",
       "      <td>7298.000000</td>\n",
       "      <td>7358.000000</td>\n",
       "      <td>7383.000000</td>\n",
       "    </tr>\n",
       "    <tr>\n",
       "      <th>mean</th>\n",
       "      <td>486.188167</td>\n",
       "      <td>24218.079195</td>\n",
       "      <td>54.746004</td>\n",
       "      <td>105.543623</td>\n",
       "      <td>1.041827e+07</td>\n",
       "      <td>5.436840</td>\n",
       "      <td>0.140654</td>\n",
       "      <td>0.038496</td>\n",
       "      <td>33.991103</td>\n",
       "      <td>0.944722</td>\n",
       "      <td>4.996782</td>\n",
       "      <td>569.522650</td>\n",
       "    </tr>\n",
       "    <tr>\n",
       "      <th>std</th>\n",
       "      <td>278.280638</td>\n",
       "      <td>19602.174448</td>\n",
       "      <td>25.865877</td>\n",
       "      <td>55.284466</td>\n",
       "      <td>5.689059e+06</td>\n",
       "      <td>1.655755</td>\n",
       "      <td>0.384544</td>\n",
       "      <td>0.013406</td>\n",
       "      <td>34.036816</td>\n",
       "      <td>0.202732</td>\n",
       "      <td>2.616719</td>\n",
       "      <td>423.896621</td>\n",
       "    </tr>\n",
       "    <tr>\n",
       "      <th>min</th>\n",
       "      <td>5.250000</td>\n",
       "      <td>3351.280000</td>\n",
       "      <td>10.010000</td>\n",
       "      <td>10.020000</td>\n",
       "      <td>5.291170e+05</td>\n",
       "      <td>2.560000</td>\n",
       "      <td>-0.430000</td>\n",
       "      <td>0.015200</td>\n",
       "      <td>1.000000</td>\n",
       "      <td>0.600000</td>\n",
       "      <td>0.450000</td>\n",
       "      <td>10.573482</td>\n",
       "    </tr>\n",
       "    <tr>\n",
       "      <th>25%</th>\n",
       "      <td>247.100000</td>\n",
       "      <td>11270.150000</td>\n",
       "      <td>32.722500</td>\n",
       "      <td>57.630000</td>\n",
       "      <td>5.577644e+06</td>\n",
       "      <td>4.020000</td>\n",
       "      <td>0.030000</td>\n",
       "      <td>0.026900</td>\n",
       "      <td>1.000000</td>\n",
       "      <td>0.770000</td>\n",
       "      <td>2.762500</td>\n",
       "      <td>223.516594</td>\n",
       "    </tr>\n",
       "    <tr>\n",
       "      <th>50%</th>\n",
       "      <td>488.380000</td>\n",
       "      <td>12765.840000</td>\n",
       "      <td>54.510000</td>\n",
       "      <td>105.770000</td>\n",
       "      <td>1.048238e+07</td>\n",
       "      <td>5.440000</td>\n",
       "      <td>0.110000</td>\n",
       "      <td>0.038400</td>\n",
       "      <td>17.700000</td>\n",
       "      <td>0.940000</td>\n",
       "      <td>5.020000</td>\n",
       "      <td>458.716483</td>\n",
       "    </tr>\n",
       "    <tr>\n",
       "      <th>75%</th>\n",
       "      <td>724.020000</td>\n",
       "      <td>38182.080000</td>\n",
       "      <td>77.397500</td>\n",
       "      <td>154.130000</td>\n",
       "      <td>1.529882e+07</td>\n",
       "      <td>6.870000</td>\n",
       "      <td>0.230000</td>\n",
       "      <td>0.050200</td>\n",
       "      <td>74.900000</td>\n",
       "      <td>1.120000</td>\n",
       "      <td>7.217500</td>\n",
       "      <td>827.927051</td>\n",
       "    </tr>\n",
       "    <tr>\n",
       "      <th>max</th>\n",
       "      <td>965.210000</td>\n",
       "      <td>55722.000000</td>\n",
       "      <td>99.980000</td>\n",
       "      <td>199.970000</td>\n",
       "      <td>2.015445e+07</td>\n",
       "      <td>8.330000</td>\n",
       "      <td>0.780000</td>\n",
       "      <td>0.061500</td>\n",
       "      <td>74.900000</td>\n",
       "      <td>1.290000</td>\n",
       "      <td>9.560000</td>\n",
       "      <td>1970.400563</td>\n",
       "    </tr>\n",
       "  </tbody>\n",
       "</table>\n",
       "</div>"
      ],
      "text/plain": [
       "              VWAP  General Index          NAV    P/E Ratio  Volumes Traded  \\\n",
       "count  7345.000000    7321.000000  7322.000000  7149.000000    7.115000e+03   \n",
       "mean    486.188167   24218.079195    54.746004   105.543623    1.041827e+07   \n",
       "std     278.280638   19602.174448    25.865877    55.284466    5.689059e+06   \n",
       "min       5.250000    3351.280000    10.010000    10.020000    5.291170e+05   \n",
       "25%     247.100000   11270.150000    32.722500    57.630000    5.577644e+06   \n",
       "50%     488.380000   12765.840000    54.510000   105.770000    1.048238e+07   \n",
       "75%     724.020000   38182.080000    77.397500   154.130000    1.529882e+07   \n",
       "max     965.210000   55722.000000    99.980000   199.970000    2.015445e+07   \n",
       "\n",
       "       Inventory Turnover  Covid Impact (Beta)  Tracking Error  \\\n",
       "count         6984.000000          7007.000000     7312.000000   \n",
       "mean             5.436840             0.140654        0.038496   \n",
       "std              1.655755             0.384544        0.013406   \n",
       "min              2.560000            -0.430000        0.015200   \n",
       "25%              4.020000             0.030000        0.026900   \n",
       "50%              5.440000             0.110000        0.038400   \n",
       "75%              6.870000             0.230000        0.050200   \n",
       "max              8.330000             0.780000        0.061500   \n",
       "\n",
       "       Dollar Exchange Rate  Put-Call Ratio    P/B Ratio  Stock Price  \n",
       "count           7306.000000     7298.000000  7358.000000  7383.000000  \n",
       "mean              33.991103        0.944722     4.996782   569.522650  \n",
       "std               34.036816        0.202732     2.616719   423.896621  \n",
       "min                1.000000        0.600000     0.450000    10.573482  \n",
       "25%                1.000000        0.770000     2.762500   223.516594  \n",
       "50%               17.700000        0.940000     5.020000   458.716483  \n",
       "75%               74.900000        1.120000     7.217500   827.927051  \n",
       "max               74.900000        1.290000     9.560000  1970.400563  "
      ]
     },
     "execution_count": 6,
     "metadata": {},
     "output_type": "execute_result"
    }
   ],
   "source": [
    "dataset.describe()"
   ]
  },
  {
   "cell_type": "code",
   "execution_count": 7,
   "metadata": {},
   "outputs": [
    {
     "data": {
      "text/plain": [
       "Index(['Stock Index', 'Index', 'Industry', 'VWAP', 'General Index', 'NAV',\n",
       "       'P/E Ratio', 'Volumes Traded', 'Inventory Turnover',\n",
       "       'Covid Impact (Beta)', 'Tracking Error', 'Dollar Exchange Rate',\n",
       "       'Put-Call Ratio', 'P/B Ratio', 'Stock Price'],\n",
       "      dtype='object')"
      ]
     },
     "execution_count": 7,
     "metadata": {},
     "output_type": "execute_result"
    }
   ],
   "source": [
    "dataset.columns"
   ]
  },
  {
   "cell_type": "code",
   "execution_count": 8,
   "metadata": {},
   "outputs": [
    {
     "data": {
      "text/plain": [
       "Stock Index               0\n",
       "Index                     0\n",
       "Industry                  0\n",
       "VWAP                     38\n",
       "General Index            62\n",
       "NAV                      61\n",
       "P/E Ratio               234\n",
       "Volumes Traded          268\n",
       "Inventory Turnover      399\n",
       "Covid Impact (Beta)     376\n",
       "Tracking Error           71\n",
       "Dollar Exchange Rate     77\n",
       "Put-Call Ratio           85\n",
       "P/B Ratio                25\n",
       "Stock Price               0\n",
       "dtype: int64"
      ]
     },
     "execution_count": 8,
     "metadata": {},
     "output_type": "execute_result"
    }
   ],
   "source": [
    "dataset.isna().sum()"
   ]
  },
  {
   "cell_type": "code",
   "execution_count": 9,
   "metadata": {},
   "outputs": [
    {
     "data": {
      "text/plain": [
       "Stock Index              object\n",
       "Index                    object\n",
       "Industry                 object\n",
       "VWAP                    float64\n",
       "General Index           float64\n",
       "NAV                     float64\n",
       "P/E Ratio               float64\n",
       "Volumes Traded          float64\n",
       "Inventory Turnover      float64\n",
       "Covid Impact (Beta)     float64\n",
       "Tracking Error          float64\n",
       "Dollar Exchange Rate    float64\n",
       "Put-Call Ratio          float64\n",
       "P/B Ratio               float64\n",
       "Stock Price             float64\n",
       "dtype: object"
      ]
     },
     "execution_count": 9,
     "metadata": {},
     "output_type": "execute_result"
    }
   ],
   "source": [
    "dataset.dtypes"
   ]
  },
  {
   "cell_type": "code",
   "execution_count": 10,
   "metadata": {},
   "outputs": [
    {
     "data": {
      "text/plain": [
       "array([12765.84, 38182.08,  3351.28, 11270.15, 55722.  ,      nan])"
      ]
     },
     "execution_count": 10,
     "metadata": {},
     "output_type": "execute_result"
    }
   ],
   "source": [
    "dataset['General Index'].unique()"
   ]
  },
  {
   "cell_type": "code",
   "execution_count": 11,
   "metadata": {},
   "outputs": [],
   "source": [
    "'''Replacing null values with app. values in General Index'''\n",
    "\n",
    "d = {\"BSE\":38182.08,\"JSE\":55722,\"NSE\":11270.15,\"NYSE\":12765.84,\"S&P 500\":3351.28}\n",
    "gi_null = [i for i in dataset.index if pd.isnull(dataset['General Index'][i])]\n",
    "for i in gi_null:\n",
    "    dataset['General Index'][i] = d[dataset['Index'][i]]"
   ]
  },
  {
   "cell_type": "code",
   "execution_count": 12,
   "metadata": {},
   "outputs": [
    {
     "data": {
      "text/plain": [
       "Stock Index               0\n",
       "Index                     0\n",
       "Industry                  0\n",
       "VWAP                     38\n",
       "General Index             0\n",
       "NAV                      61\n",
       "P/E Ratio               234\n",
       "Volumes Traded          268\n",
       "Inventory Turnover      399\n",
       "Covid Impact (Beta)     376\n",
       "Tracking Error           71\n",
       "Dollar Exchange Rate     77\n",
       "Put-Call Ratio           85\n",
       "P/B Ratio                25\n",
       "Stock Price               0\n",
       "dtype: int64"
      ]
     },
     "execution_count": 12,
     "metadata": {},
     "output_type": "execute_result"
    }
   ],
   "source": [
    "dataset.isna().sum()"
   ]
  },
  {
   "cell_type": "code",
   "execution_count": 13,
   "metadata": {},
   "outputs": [
    {
     "data": {
      "text/plain": [
       "array([ 1. , 74.9,  nan, 17.7])"
      ]
     },
     "execution_count": 13,
     "metadata": {},
     "output_type": "execute_result"
    }
   ],
   "source": [
    "dataset['Dollar Exchange Rate'].unique()"
   ]
  },
  {
   "cell_type": "code",
   "execution_count": 14,
   "metadata": {},
   "outputs": [],
   "source": [
    "'''Replacing null values with app. values in Dollar Exchange Rate'''\n",
    "\n",
    "d = {\"BSE\":74.9,\"JSE\":17.7,\"NSE\":74.9,\"NYSE\":1,\"S&P 500\":1}\n",
    "der_null = [i for i in dataset.index if pd.isnull(dataset['Dollar Exchange Rate'][i])]\n",
    "for i in der_null:\n",
    "    dataset['Dollar Exchange Rate'][i] = d[dataset['Index'][i]]"
   ]
  },
  {
   "cell_type": "code",
   "execution_count": 15,
   "metadata": {},
   "outputs": [
    {
     "data": {
      "text/plain": [
       "Stock Index               0\n",
       "Index                     0\n",
       "Industry                  0\n",
       "VWAP                     38\n",
       "General Index             0\n",
       "NAV                      61\n",
       "P/E Ratio               234\n",
       "Volumes Traded          268\n",
       "Inventory Turnover      399\n",
       "Covid Impact (Beta)     376\n",
       "Tracking Error           71\n",
       "Dollar Exchange Rate      0\n",
       "Put-Call Ratio           85\n",
       "P/B Ratio                25\n",
       "Stock Price               0\n",
       "dtype: int64"
      ]
     },
     "execution_count": 15,
     "metadata": {},
     "output_type": "execute_result"
    }
   ],
   "source": [
    "dataset.isna().sum()"
   ]
  },
  {
   "cell_type": "code",
   "execution_count": 16,
   "metadata": {},
   "outputs": [
    {
     "data": {
      "text/plain": [
       "Index(['VWAP', 'General Index', 'NAV', 'P/E Ratio', 'Volumes Traded',\n",
       "       'Inventory Turnover', 'Covid Impact (Beta)', 'Tracking Error',\n",
       "       'Dollar Exchange Rate', 'Put-Call Ratio', 'P/B Ratio', 'Stock Price'],\n",
       "      dtype='object')"
      ]
     },
     "execution_count": 16,
     "metadata": {},
     "output_type": "execute_result"
    }
   ],
   "source": [
    "ind_num=dataset.select_dtypes(include=['int64','float64']).columns\n",
    "ind_num"
   ]
  },
  {
   "cell_type": "code",
   "execution_count": 17,
   "metadata": {},
   "outputs": [],
   "source": [
    "from sklearn import preprocessing\n",
    "for i in ind_num:\n",
    "    dataset[i].fillna(dataset[i].mean(),inplace=True)"
   ]
  },
  {
   "cell_type": "code",
   "execution_count": 18,
   "metadata": {},
   "outputs": [
    {
     "data": {
      "text/plain": [
       "Stock Index             0\n",
       "Index                   0\n",
       "Industry                0\n",
       "VWAP                    0\n",
       "General Index           0\n",
       "NAV                     0\n",
       "P/E Ratio               0\n",
       "Volumes Traded          0\n",
       "Inventory Turnover      0\n",
       "Covid Impact (Beta)     0\n",
       "Tracking Error          0\n",
       "Dollar Exchange Rate    0\n",
       "Put-Call Ratio          0\n",
       "P/B Ratio               0\n",
       "Stock Price             0\n",
       "dtype: int64"
      ]
     },
     "execution_count": 18,
     "metadata": {},
     "output_type": "execute_result"
    }
   ],
   "source": [
    "dataset.isna().sum()"
   ]
  },
  {
   "cell_type": "code",
   "execution_count": 19,
   "metadata": {},
   "outputs": [],
   "source": [
    "dataset.drop(columns=['Stock Index'],inplace=True)"
   ]
  },
  {
   "cell_type": "code",
   "execution_count": 20,
   "metadata": {},
   "outputs": [
    {
     "data": {
      "text/plain": [
       "Index(['Index', 'Industry'], dtype='object')"
      ]
     },
     "execution_count": 20,
     "metadata": {},
     "output_type": "execute_result"
    }
   ],
   "source": [
    "ind=dataset.select_dtypes(include=['object']).columns \n",
    "for i in ind:\n",
    "    dataset[i] = dataset[i].astype('category').cat.codes"
   ]
  },
  {
   "cell_type": "code",
   "execution_count": 22,
   "metadata": {},
   "outputs": [
    {
     "data": {
      "text/plain": [
       "Index                      int8\n",
       "Industry                   int8\n",
       "VWAP                    float64\n",
       "General Index           float64\n",
       "NAV                     float64\n",
       "P/E Ratio               float64\n",
       "Volumes Traded          float64\n",
       "Inventory Turnover      float64\n",
       "Covid Impact (Beta)     float64\n",
       "Tracking Error          float64\n",
       "Dollar Exchange Rate    float64\n",
       "Put-Call Ratio          float64\n",
       "P/B Ratio               float64\n",
       "Stock Price             float64\n",
       "dtype: object"
      ]
     },
     "execution_count": 22,
     "metadata": {},
     "output_type": "execute_result"
    }
   ],
   "source": [
    "dataset.dtypes"
   ]
  },
  {
   "cell_type": "code",
   "execution_count": 23,
   "metadata": {},
   "outputs": [
    {
     "data": {
      "text/html": [
       "<div>\n",
       "<style scoped>\n",
       "    .dataframe tbody tr th:only-of-type {\n",
       "        vertical-align: middle;\n",
       "    }\n",
       "\n",
       "    .dataframe tbody tr th {\n",
       "        vertical-align: top;\n",
       "    }\n",
       "\n",
       "    .dataframe thead th {\n",
       "        text-align: right;\n",
       "    }\n",
       "</style>\n",
       "<table border=\"1\" class=\"dataframe\">\n",
       "  <thead>\n",
       "    <tr style=\"text-align: right;\">\n",
       "      <th></th>\n",
       "      <th>Index</th>\n",
       "      <th>Industry</th>\n",
       "      <th>VWAP</th>\n",
       "      <th>General Index</th>\n",
       "      <th>NAV</th>\n",
       "      <th>P/E Ratio</th>\n",
       "      <th>Volumes Traded</th>\n",
       "      <th>Inventory Turnover</th>\n",
       "      <th>Covid Impact (Beta)</th>\n",
       "      <th>Tracking Error</th>\n",
       "      <th>Dollar Exchange Rate</th>\n",
       "      <th>Put-Call Ratio</th>\n",
       "      <th>P/B Ratio</th>\n",
       "      <th>Stock Price</th>\n",
       "    </tr>\n",
       "  </thead>\n",
       "  <tbody>\n",
       "    <tr>\n",
       "      <th>0</th>\n",
       "      <td>3</td>\n",
       "      <td>4</td>\n",
       "      <td>700.290000</td>\n",
       "      <td>12765.84</td>\n",
       "      <td>32.38</td>\n",
       "      <td>45.350000</td>\n",
       "      <td>1208599.0</td>\n",
       "      <td>5.05</td>\n",
       "      <td>-0.43</td>\n",
       "      <td>0.0520</td>\n",
       "      <td>1.0</td>\n",
       "      <td>0.610000</td>\n",
       "      <td>9.20</td>\n",
       "      <td>156.987852</td>\n",
       "    </tr>\n",
       "    <tr>\n",
       "      <th>1</th>\n",
       "      <td>3</td>\n",
       "      <td>2</td>\n",
       "      <td>214.520000</td>\n",
       "      <td>12765.84</td>\n",
       "      <td>33.25</td>\n",
       "      <td>170.560000</td>\n",
       "      <td>13753356.0</td>\n",
       "      <td>3.10</td>\n",
       "      <td>0.23</td>\n",
       "      <td>0.0164</td>\n",
       "      <td>1.0</td>\n",
       "      <td>0.944722</td>\n",
       "      <td>6.91</td>\n",
       "      <td>560.859622</td>\n",
       "    </tr>\n",
       "    <tr>\n",
       "      <th>2</th>\n",
       "      <td>3</td>\n",
       "      <td>2</td>\n",
       "      <td>943.420000</td>\n",
       "      <td>12765.84</td>\n",
       "      <td>88.27</td>\n",
       "      <td>143.580000</td>\n",
       "      <td>6892003.0</td>\n",
       "      <td>7.70</td>\n",
       "      <td>0.23</td>\n",
       "      <td>0.0396</td>\n",
       "      <td>1.0</td>\n",
       "      <td>0.944722</td>\n",
       "      <td>6.09</td>\n",
       "      <td>1279.732874</td>\n",
       "    </tr>\n",
       "    <tr>\n",
       "      <th>3</th>\n",
       "      <td>0</td>\n",
       "      <td>3</td>\n",
       "      <td>828.130000</td>\n",
       "      <td>38182.08</td>\n",
       "      <td>73.66</td>\n",
       "      <td>151.760000</td>\n",
       "      <td>8316793.0</td>\n",
       "      <td>4.80</td>\n",
       "      <td>0.03</td>\n",
       "      <td>0.0431</td>\n",
       "      <td>74.9</td>\n",
       "      <td>1.110000</td>\n",
       "      <td>5.60</td>\n",
       "      <td>1121.787632</td>\n",
       "    </tr>\n",
       "    <tr>\n",
       "      <th>4</th>\n",
       "      <td>4</td>\n",
       "      <td>4</td>\n",
       "      <td>486.188167</td>\n",
       "      <td>3351.28</td>\n",
       "      <td>23.79</td>\n",
       "      <td>105.543623</td>\n",
       "      <td>3943312.0</td>\n",
       "      <td>8.06</td>\n",
       "      <td>-0.43</td>\n",
       "      <td>0.0244</td>\n",
       "      <td>1.0</td>\n",
       "      <td>1.070000</td>\n",
       "      <td>9.46</td>\n",
       "      <td>382.962534</td>\n",
       "    </tr>\n",
       "  </tbody>\n",
       "</table>\n",
       "</div>"
      ],
      "text/plain": [
       "   Index  Industry        VWAP  General Index    NAV   P/E Ratio  \\\n",
       "0      3         4  700.290000       12765.84  32.38   45.350000   \n",
       "1      3         2  214.520000       12765.84  33.25  170.560000   \n",
       "2      3         2  943.420000       12765.84  88.27  143.580000   \n",
       "3      0         3  828.130000       38182.08  73.66  151.760000   \n",
       "4      4         4  486.188167        3351.28  23.79  105.543623   \n",
       "\n",
       "   Volumes Traded  Inventory Turnover  Covid Impact (Beta)  Tracking Error  \\\n",
       "0       1208599.0                5.05                -0.43          0.0520   \n",
       "1      13753356.0                3.10                 0.23          0.0164   \n",
       "2       6892003.0                7.70                 0.23          0.0396   \n",
       "3       8316793.0                4.80                 0.03          0.0431   \n",
       "4       3943312.0                8.06                -0.43          0.0244   \n",
       "\n",
       "   Dollar Exchange Rate  Put-Call Ratio  P/B Ratio  Stock Price  \n",
       "0                   1.0        0.610000       9.20   156.987852  \n",
       "1                   1.0        0.944722       6.91   560.859622  \n",
       "2                   1.0        0.944722       6.09  1279.732874  \n",
       "3                  74.9        1.110000       5.60  1121.787632  \n",
       "4                   1.0        1.070000       9.46   382.962534  "
      ]
     },
     "execution_count": 23,
     "metadata": {},
     "output_type": "execute_result"
    }
   ],
   "source": [
    "dataset.head()"
   ]
  },
  {
   "cell_type": "code",
   "execution_count": 24,
   "metadata": {},
   "outputs": [],
   "source": [
    "target=dataset['Stock Price']\n",
    "features=dataset.drop(columns=['Stock Price'])"
   ]
  },
  {
   "cell_type": "code",
   "execution_count": 25,
   "metadata": {},
   "outputs": [
    {
     "name": "stdout",
     "output_type": "stream",
     "text": [
      "(7383,)\n",
      "(7383, 13)\n"
     ]
    }
   ],
   "source": [
    "print(target.shape)\n",
    "print(features.shape)"
   ]
  },
  {
   "cell_type": "code",
   "execution_count": 26,
   "metadata": {},
   "outputs": [],
   "source": [
    "from sklearn.model_selection  import train_test_split\n",
    "x_train, x_test, y_train, y_test = train_test_split(features, target, random_state=42, test_size=.2)"
   ]
  },
  {
   "cell_type": "code",
   "execution_count": 27,
   "metadata": {},
   "outputs": [
    {
     "name": "stdout",
     "output_type": "stream",
     "text": [
      "(5906, 13)\n",
      "(1477, 13)\n",
      "(5906,)\n",
      "(1477,)\n"
     ]
    }
   ],
   "source": [
    "print(x_train.shape)\n",
    "print(x_test.shape)\n",
    "print(y_train.shape)\n",
    "print(y_test.shape)"
   ]
  },
  {
   "cell_type": "code",
   "execution_count": 28,
   "metadata": {},
   "outputs": [],
   "source": [
    "from sklearn import linear_model\n",
    "from sklearn.metrics import mean_squared_error\n",
    "from sklearn.metrics import mean_absolute_error\n",
    "from sklearn.metrics import r2_score"
   ]
  },
  {
   "cell_type": "code",
   "execution_count": 29,
   "metadata": {},
   "outputs": [
    {
     "name": "stdout",
     "output_type": "stream",
     "text": [
      "Testing error_RootMeanSquareError 2.0401261580817374e+22\n"
     ]
    }
   ],
   "source": [
    "'''SGD Regressor'''\n",
    "from sklearn.linear_model import SGDRegressor\n",
    "sgd=SGDRegressor()\n",
    "model=sgd.fit(x_train,y_train)\n",
    "pred = model.predict(x_test)\n",
    "train_pred=sgd.predict(x_train)\n",
    "train_pred=sgd.predict(x_test)\n",
    "print('Testing error_RootMeanSquareError', np.sqrt(mean_squared_error(y_test,train_pred)))"
   ]
  },
  {
   "cell_type": "code",
   "execution_count": 30,
   "metadata": {},
   "outputs": [],
   "source": [
    "'''Testing the final test data'''\n",
    "dataset_test = pd.read_excel(\"Test_dataset.xlsx\",sheet_name='Test_Aug10')"
   ]
  },
  {
   "cell_type": "code",
   "execution_count": 31,
   "metadata": {},
   "outputs": [
    {
     "data": {
      "text/plain": [
       "Index(['Stock Index', 'Index', 'Industry', 'VWAP', 'General Index', 'NAV',\n",
       "       'P/E Ratio', 'Volumes Traded', 'Inventory Turnover',\n",
       "       'Covid Impact (Beta)', 'Tracking Error', 'Dollar Exchange Rate',\n",
       "       'Put-Call Ratio', 'P/B Ratio'],\n",
       "      dtype='object')"
      ]
     },
     "execution_count": 31,
     "metadata": {},
     "output_type": "execute_result"
    }
   ],
   "source": [
    "dataset_test.columns"
   ]
  },
  {
   "cell_type": "code",
   "execution_count": 32,
   "metadata": {},
   "outputs": [
    {
     "data": {
      "text/plain": [
       "(3331, 14)"
      ]
     },
     "execution_count": 32,
     "metadata": {},
     "output_type": "execute_result"
    }
   ],
   "source": [
    "dataset_test.shape"
   ]
  },
  {
   "cell_type": "code",
   "execution_count": 33,
   "metadata": {},
   "outputs": [
    {
     "data": {
      "text/plain": [
       "Stock Index               0\n",
       "Index                     0\n",
       "Industry                  0\n",
       "VWAP                     12\n",
       "General Index           271\n",
       "NAV                     275\n",
       "P/E Ratio               292\n",
       "Volumes Traded           48\n",
       "Inventory Turnover       30\n",
       "Covid Impact (Beta)      31\n",
       "Tracking Error          126\n",
       "Dollar Exchange Rate    143\n",
       "Put-Call Ratio          429\n",
       "P/B Ratio               138\n",
       "dtype: int64"
      ]
     },
     "execution_count": 33,
     "metadata": {},
     "output_type": "execute_result"
    }
   ],
   "source": [
    "dataset_test.isna().sum()"
   ]
  },
  {
   "cell_type": "code",
   "execution_count": 34,
   "metadata": {},
   "outputs": [],
   "source": [
    "'''Replacing null values with app. values in General Index'''\n",
    "\n",
    "d = {\"BSE\":38182.08,\"JSE\":55722,\"NSE\":11270.15,\"NYSE\":12765.84,\"S&P 500\":3351.28}\n",
    "gi_null = [i for i in dataset_test.index if pd.isnull(dataset_test['General Index'][i])]\n",
    "for i in gi_null:\n",
    "    dataset_test['General Index'][i] = d[dataset_test['Index'][i]]"
   ]
  },
  {
   "cell_type": "code",
   "execution_count": 35,
   "metadata": {},
   "outputs": [],
   "source": [
    "'''Replacing null values with app. values in Dollar Exchange Rate'''\n",
    "\n",
    "d = {\"BSE\":74.9,\"JSE\":17.7,\"NSE\":74.9,\"NYSE\":1,\"S&P 500\":1}\n",
    "der_null = [i for i in dataset_test.index if pd.isnull(dataset_test['Dollar Exchange Rate'][i])]\n",
    "for i in der_null:\n",
    "    dataset_test['Dollar Exchange Rate'][i] = d[dataset_test['Index'][i]]"
   ]
  },
  {
   "cell_type": "code",
   "execution_count": 36,
   "metadata": {},
   "outputs": [
    {
     "data": {
      "text/plain": [
       "Stock Index               0\n",
       "Index                     0\n",
       "Industry                  0\n",
       "VWAP                     12\n",
       "General Index             0\n",
       "NAV                     275\n",
       "P/E Ratio               292\n",
       "Volumes Traded           48\n",
       "Inventory Turnover       30\n",
       "Covid Impact (Beta)      31\n",
       "Tracking Error          126\n",
       "Dollar Exchange Rate      0\n",
       "Put-Call Ratio          429\n",
       "P/B Ratio               138\n",
       "dtype: int64"
      ]
     },
     "execution_count": 36,
     "metadata": {},
     "output_type": "execute_result"
    }
   ],
   "source": [
    "dataset_test.isna().sum()"
   ]
  },
  {
   "cell_type": "code",
   "execution_count": 37,
   "metadata": {},
   "outputs": [
    {
     "name": "stdout",
     "output_type": "stream",
     "text": [
      "Index(['VWAP', 'General Index', 'NAV', 'P/E Ratio', 'Volumes Traded',\n",
      "       'Inventory Turnover', 'Covid Impact (Beta)', 'Tracking Error',\n",
      "       'Dollar Exchange Rate', 'Put-Call Ratio', 'P/B Ratio'],\n",
      "      dtype='object')\n"
     ]
    }
   ],
   "source": [
    "ind_num=dataset_test.select_dtypes(include=['int64','float64']).columns\n",
    "print(ind_num)\n",
    "from sklearn import preprocessing\n",
    "for i in ind_num:\n",
    "    dataset_test[i].fillna(dataset_test[i].mean(),inplace=True)"
   ]
  },
  {
   "cell_type": "code",
   "execution_count": 38,
   "metadata": {},
   "outputs": [
    {
     "data": {
      "text/plain": [
       "Stock Index             0\n",
       "Index                   0\n",
       "Industry                0\n",
       "VWAP                    0\n",
       "General Index           0\n",
       "NAV                     0\n",
       "P/E Ratio               0\n",
       "Volumes Traded          0\n",
       "Inventory Turnover      0\n",
       "Covid Impact (Beta)     0\n",
       "Tracking Error          0\n",
       "Dollar Exchange Rate    0\n",
       "Put-Call Ratio          0\n",
       "P/B Ratio               0\n",
       "dtype: int64"
      ]
     },
     "execution_count": 38,
     "metadata": {},
     "output_type": "execute_result"
    }
   ],
   "source": [
    "dataset_test.isna().sum()"
   ]
  },
  {
   "cell_type": "code",
   "execution_count": 39,
   "metadata": {},
   "outputs": [],
   "source": [
    "'''Result Dataframe'''\n",
    "res_id=dataset_test['Stock Index']\n"
   ]
  },
  {
   "cell_type": "code",
   "execution_count": 40,
   "metadata": {},
   "outputs": [
    {
     "name": "stdout",
     "output_type": "stream",
     "text": [
      "Index                      int8\n",
      "Industry                   int8\n",
      "VWAP                    float64\n",
      "General Index           float64\n",
      "NAV                     float64\n",
      "P/E Ratio               float64\n",
      "Volumes Traded          float64\n",
      "Inventory Turnover      float64\n",
      "Covid Impact (Beta)     float64\n",
      "Tracking Error          float64\n",
      "Dollar Exchange Rate    float64\n",
      "Put-Call Ratio          float64\n",
      "P/B Ratio               float64\n",
      "dtype: object\n"
     ]
    }
   ],
   "source": [
    "dataset_test.drop(columns=['Stock Index'],inplace=True)\n",
    "ind=dataset_test.select_dtypes(include=['object']).columns \n",
    "for i in ind:\n",
    "    dataset_test[i] = dataset_test[i].astype('category').cat.codes\n",
    "print(dataset_test.dtypes)"
   ]
  },
  {
   "cell_type": "code",
   "execution_count": 41,
   "metadata": {},
   "outputs": [],
   "source": [
    "res_data=dataset_test"
   ]
  },
  {
   "cell_type": "code",
   "execution_count": 42,
   "metadata": {},
   "outputs": [],
   "source": [
    "res_data['Stock Price']=sgd.predict(res_data)\n",
    "result=pd.DataFrame({'Stock Index':res_id, 'Infect_prob':res_data['Stock Price']})\n",
    "result.to_csv('result_p1.csv', index=False)"
   ]
  }
 ],
 "metadata": {
  "kernelspec": {
   "display_name": "Python 3",
   "language": "python",
   "name": "python3"
  },
  "language_info": {
   "codemirror_mode": {
    "name": "ipython",
    "version": 3
   },
   "file_extension": ".py",
   "mimetype": "text/x-python",
   "name": "python",
   "nbconvert_exporter": "python",
   "pygments_lexer": "ipython3",
   "version": "3.6.5"
  }
 },
 "nbformat": 4,
 "nbformat_minor": 2
}
